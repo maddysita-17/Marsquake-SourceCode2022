{
 "cells": [
  {
   "cell_type": "code",
   "execution_count": 1,
   "id": "1fe8f63e",
   "metadata": {},
   "outputs": [],
   "source": [
    "import obspy\n",
    "import obspy.taup\n",
    "from obspy.taup.tau_model import TauModel\n",
    "from obspy.taup.taup_create import build_taup_model"
   ]
  },
  {
   "cell_type": "code",
   "execution_count": 2,
   "id": "a2408666",
   "metadata": {},
   "outputs": [
    {
     "name": "stdout",
     "output_type": "stream",
     "text": [
      "Building obspy.taup model for 'models/Gudkova.nd' ...\n",
      "Building obspy.taup model for 'models/TAYAK.nd' ...\n",
      "Building obspy.taup model for 'models/NewGudkova.nd' ...\n",
      "Building obspy.taup model for 'models/Combined.nd' ...\n"
     ]
    }
   ],
   "source": [
    "build_taup_model(\"models/Gudkova.nd\")\n",
    "build_taup_model(\"models/TAYAK.nd\")\n",
    "build_taup_model(\"models/NewGudkova.nd\")\n",
    "build_taup_model(\"models/Combined.nd\")"
   ]
  },
  {
   "cell_type": "code",
   "execution_count": null,
   "id": "f3f34b9d",
   "metadata": {},
   "outputs": [],
   "source": []
  }
 ],
 "metadata": {
  "kernelspec": {
   "display_name": "Python 3 (ipykernel)",
   "language": "python",
   "name": "python3"
  },
  "language_info": {
   "codemirror_mode": {
    "name": "ipython",
    "version": 3
   },
   "file_extension": ".py",
   "mimetype": "text/x-python",
   "name": "python",
   "nbconvert_exporter": "python",
   "pygments_lexer": "ipython3",
   "version": "3.7.12"
  }
 },
 "nbformat": 4,
 "nbformat_minor": 5
}
