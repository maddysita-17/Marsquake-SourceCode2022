{
 "cells": [
  {
   "cell_type": "code",
   "execution_count": null,
   "id": "4cda8585",
   "metadata": {},
   "outputs": [],
   "source": [
    "import obspy\n",
    "import obspy.taup\n",
    "from obspy.taup.tau_model import TauModel\n",
    "from obspy.taup.taup_create import build_taup_model"
   ]
  },
  {
   "cell_type": "code",
   "execution_count": null,
   "id": "459a6ad6",
   "metadata": {},
   "outputs": [],
   "source": [
    "build_taup_model(\"models/Gudkova.nd\")\n",
    "build_taup_model(\"models/TAYAK.nd\")\n",
    "build_taup_model(\"models/NewGudkova.nd\")\n",
    "build_taup_model(\"models/Combined.nd\")"
   ]
  }
 ],
 "metadata": {
  "kernelspec": {
   "display_name": "Python 3 (ipykernel)",
   "language": "python",
   "name": "python3"
  },
  "language_info": {
   "codemirror_mode": {
    "name": "ipython",
    "version": 3
   },
   "file_extension": ".py",
   "mimetype": "text/x-python",
   "name": "python",
   "nbconvert_exporter": "python",
   "pygments_lexer": "ipython3",
   "version": "3.7.12"
  }
 },
 "nbformat": 4,
 "nbformat_minor": 5
}
